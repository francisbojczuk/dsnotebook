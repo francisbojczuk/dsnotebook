{
 "cells": [
  {
   "cell_type": "markdown",
   "id": "b72d29ad-a1c9-45c1-954e-b3617d0d2ddf",
   "metadata": {},
   "source": [
    "# Data Science Tools and Ecosystem"
   ]
  },
  {
   "cell_type": "markdown",
   "id": "8a9b86a0-d626-49a0-9f3a-f7e8ec5405bf",
   "metadata": {},
   "source": [
    "In this notebook, Data Science Tools and Ecosystem are summarized."
   ]
  },
  {
   "cell_type": "markdown",
   "id": "7599a520-b637-4cc7-994d-d2ed2b5ce72b",
   "metadata": {},
   "source": [
    "Some of the popular languages that Data Scientists use are:\n",
    "1) Python\n",
    "2) R\n",
    "3) Java\n",
    "4) SQL"
   ]
  },
  {
   "cell_type": "markdown",
   "id": "fc66380b-5987-4e4a-b64a-fab562f734a9",
   "metadata": {},
   "source": [
    "Some of the commonly used libraries used by Data Scientists include:\n",
    "1) NumPy\n",
    "2) Tensorflow\n",
    "3) SciPy"
   ]
  },
  {
   "cell_type": "markdown",
   "id": "bef176df-cffd-4030-8b84-c406445ee8eb",
   "metadata": {},
   "source": [
    "|Data Science Tools|\n",
    "|:----------------:|\n",
    "|R Stuio|\n",
    "|Jupyter|\n",
    "|Anaconda|\n",
    "\n"
   ]
  },
  {
   "cell_type": "markdown",
   "id": "3eb48682-9769-41f1-9db0-e8ba422b121e",
   "metadata": {},
   "source": [
    "### Below are a few examples of evaluating arithmetic expressions in Python"
   ]
  },
  {
   "cell_type": "code",
   "execution_count": 1,
   "id": "8a6888a3-6a7e-4358-bbe1-69bd13466e87",
   "metadata": {},
   "outputs": [
    {
     "data": {
      "text/plain": [
       "17"
      ]
     },
     "execution_count": 1,
     "metadata": {},
     "output_type": "execute_result"
    }
   ],
   "source": [
    "#This a simple arithmetic expression to mutiply then add integers\n",
    "(3*4)+5"
   ]
  },
  {
   "cell_type": "code",
   "execution_count": 2,
   "id": "bc1993fb-aee6-4c07-8dca-ac640aca2dc3",
   "metadata": {},
   "outputs": [
    {
     "name": "stdout",
     "output_type": "stream",
     "text": [
      "3.3333333333333335\n"
     ]
    }
   ],
   "source": [
    "#This will convert 200 minutes to hours by diving by 60\n",
    "minutes = 200\n",
    "hours = 200/60\n",
    "print(hours)"
   ]
  },
  {
   "cell_type": "markdown",
   "id": "b7cee899-39d4-44d5-803c-641b5eb18c52",
   "metadata": {},
   "source": [
    "**Objectives:**\n",
    "- Create a code cell to multiply and add numbers\n",
    "- Create a code cell to convert minutes to hours\n",
    "- Insert a markdown cell to list Objectives"
   ]
  },
  {
   "cell_type": "markdown",
   "id": "58fe42a7-6c51-4e72-a3cf-19c9ce463c38",
   "metadata": {},
   "source": [
    "## Author \n",
    "Francis Bojczuk"
   ]
  },
  {
   "cell_type": "code",
   "execution_count": null,
   "id": "036a4fe1-07de-4d83-92f2-6f2259c2990c",
   "metadata": {},
   "outputs": [],
   "source": []
  }
 ],
 "metadata": {
  "kernelspec": {
   "display_name": "Python 3 (ipykernel)",
   "language": "python",
   "name": "python3"
  },
  "language_info": {
   "codemirror_mode": {
    "name": "ipython",
    "version": 3
   },
   "file_extension": ".py",
   "mimetype": "text/x-python",
   "name": "python",
   "nbconvert_exporter": "python",
   "pygments_lexer": "ipython3",
   "version": "3.11.9"
  }
 },
 "nbformat": 4,
 "nbformat_minor": 5
}
